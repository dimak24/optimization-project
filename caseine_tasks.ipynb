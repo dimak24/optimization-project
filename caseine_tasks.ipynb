{
 "cells": [
  {
   "cell_type": "code",
   "execution_count": 35,
   "metadata": {},
   "outputs": [],
   "source": [
    "from cvxopt import matrix, solvers\n",
    "import json"
   ]
  },
  {
   "cell_type": "markdown",
   "metadata": {},
   "source": [
    "# Cucumbers and onions\n",
    "\n",
    "A farmer is producing two types of vegetables: cucumbers and onions. His goal is to produce the maximum weight of vegetables knowing that the yield is 4kg/m² for cucumbers and 5kg/m² for onions. In order to crop his vegetables he must use two types of fertilizer, A and B.\n",
    "\n",
    "8l of fertilizer A is available\n",
    " 2l/m² is needed for cucumbers and 1l/m² for onions\n",
    "7l  of fertilizer B is available\n",
    " 1l/m² is needed for cucumbers and 2l/m² for onions\n",
    "Unfortunatly, he must also use an anti-parasite in order to prevent his crops from being degraded.\n",
    "\n",
    "3l  of anti-parasites is available\n",
    " 1l/m² is needed for onions\n",
    "Question: model this problem as a linear program.\n",
    "\n",
    "### Solution\n",
    "Let x and y be areas covered by cucumbers and onions correspondingly. Then this issue can be formulated as a linear programming problem as follows:\n",
    "\\begin{align*}\n",
    "4x + 5y &\\to max \\\\\n",
    "2x + y &\\le 8 \\\\\n",
    "x + 2y &\\le 7 \\\\\n",
    "y &\\le 3 \\\\\n",
    "x &\\ge 0 \\\\\n",
    "y &\\ge 0\n",
    "\\end{align*}"
   ]
  },
  {
   "cell_type": "code",
   "execution_count": 42,
   "metadata": {},
   "outputs": [
    {
     "name": "stdout",
     "output_type": "stream",
     "text": [
      "     pcost       dcost       gap    pres   dres   k/t\n",
      " 0: -2.0538e+01 -4.8231e+01  1e+01  0e+00  9e-01  1e+00\n",
      " 1: -2.1458e+01 -2.4049e+01  9e-01  2e-16  8e-02  8e-02\n",
      " 2: -2.1993e+01 -2.2046e+01  2e-02  4e-16  2e-03  2e-03\n",
      " 3: -2.2000e+01 -2.2000e+01  2e-04  1e-16  2e-05  2e-05\n",
      " 4: -2.2000e+01 -2.2000e+01  2e-06  1e-16  2e-07  2e-07\n",
      " 5: -2.2000e+01 -2.2000e+01  2e-08  9e-17  2e-09  2e-09\n",
      "Optimal solution found.\n",
      "{\n",
      "    \"cucumbers:\": \"3.00000000\",\n",
      "    \"onions:\": \"2.00000000\"\n",
      "}\n"
     ]
    }
   ],
   "source": [
    "c = matrix([-4., -5.])\n",
    "A = matrix([[2., 1., 0., -1., 0.], [1., 2., 1., 0., -1.]])\n",
    "b = matrix([8., 7., 3., 0., 0.])\n",
    "\n",
    "print(json.dumps(dict(zip(['cucumbers:', 'onions:'], map(lambda f: format(f, \".8f\"), solvers.lp(c, A, b)['x']))), indent=4))"
   ]
  },
  {
   "cell_type": "markdown",
   "metadata": {},
   "source": [
    "# German Wines\n",
    "\n",
    "An American distillery produces 3 kinds of genuine German wines:Heidelberg sweet, Heidelberg regular and Deutschland extra dry. The basic products, the workforce and the profit per gallon are given in the following table.\n",
    "\n",
    "|                    |grapes - type A  |grapes - type B  |sugar    |workforce  |profit  | \n",
    "|--------------------|:---------------:|:---------------:|:-------:|:---------:|:------:|\n",
    "|                    |(bushel)         |(bushel)         |(kg)     |(hours)    |(euro)  |\n",
    "|Heidelberg sweet    |1                |1                |2        |2          |10      |\n",
    "|Heidelberg regular  |2                |0                |1        |3          |12      |\n",
    "|Deutschl. extra dry |0                |2                |0        |1          |20      |\n",
    "\n",
    "The distillery owns 150 bushel of grapes of type A, 150 bushel of grapes of type B, 80 kg of sugar and can provide 225 hours of work. What quantity of each wine should be produced to maximize profit?\n",
    "\n",
    "Question: model this problem as a linear program.\n",
    "\n",
    "\n",
    "### Solution\n",
    "Let x, y and z be gallons of Heidelberg sweet, Heidelberg regular and Deutschl correspondingly. Then this issue can be formulated as a linear programming problem as follows:\n",
    "\\begin{align*}\n",
    "10x + 12y + 20z &\\to max \\\\\n",
    "x + 2y &\\le 150 \\\\\n",
    "x + 2z &\\le 150 \\\\\n",
    "2x + y &\\le 80 \\\\\n",
    "2x + 2y + z &\\le 225 \\\\\n",
    "x &\\ge 0 \\\\\n",
    "y &\\ge 0 \\\\\n",
    "z &\\ge 0\n",
    "\\end{align*}"
   ]
  },
  {
   "cell_type": "code",
   "execution_count": 41,
   "metadata": {},
   "outputs": [
    {
     "name": "stdout",
     "output_type": "stream",
     "text": [
      "     pcost       dcost       gap    pres   dres   k/t\n",
      " 0: -1.9400e+03 -4.9650e+03  2e+03  2e-01  1e+00  1e+00\n",
      " 1: -2.2404e+03 -3.5647e+03  7e+02  9e-02  6e-01  2e+01\n",
      " 2: -2.3889e+03 -2.5404e+03  7e+01  1e-02  7e-02  8e+00\n",
      " 3: -2.4003e+03 -2.4051e+03  2e+00  3e-04  2e-03  2e-01\n",
      " 4: -2.4000e+03 -2.4001e+03  2e-02  3e-06  2e-05  2e-03\n",
      " 5: -2.4000e+03 -2.4000e+03  2e-04  3e-08  2e-07  2e-05\n",
      " 6: -2.4000e+03 -2.4000e+03  2e-06  3e-10  2e-09  2e-07\n",
      "Optimal solution found.\n",
      "{\n",
      "    \"Heidelberg sweet:\": \"-0.00000003\",\n",
      "    \"Heidelberg regular:\": \"75.00000001\",\n",
      "    \"Deutch, extra dry:\": \"75.00000002\"\n",
      "}\n"
     ]
    }
   ],
   "source": [
    "c = matrix([-10., -12., -20.])\n",
    "A = matrix([[1., 1., 2., 2., -1., 0., 0.], [2., 0., 1., 2., 0., -1., 0.], [0., 2., 0., 1., 0., 0., -1.]])\n",
    "b = matrix([150., 150., 80., 225., 0., 0., 0.])\n",
    "\n",
    "print(json.dumps(dict(zip(['Heidelberg sweet:', \n",
    "                           'Heidelberg regular:', \n",
    "                           'Deutch, extra dry:'], map(lambda f: format(f, \".8f\"), solvers.lp(c, A, b)['x']))), indent=4))"
   ]
  },
  {
   "cell_type": "markdown",
   "metadata": {},
   "source": [
    "# Perfumes\n",
    "\n",
    "A company sells two perfumes for respectively 300 and 500 euros the liter. The perfumes are obtained from three vegetal raw materials which have a liquid form (material A, B and C). The state of the stocks and the quantities of raw materials needed for the fabrication of one liter of each perfume are given below:\n",
    "\n",
    "|         |Material A (liters)|Material B (liters)|Material C (liters)|Profit (€/liter)|\n",
    "|---------|:-----------------:|:-----------------:|:-----------------:|:---------------|\n",
    "|Perfume 1|1                  |0                  |3                  |300             | \n",
    "|Perfume 2|0                  |2                  |2                  |500             |\n",
    "|Stocks   |4                  |12                 |18                 |                |\n",
    "\n",
    "For example, one liter of material A and three liters of C are needed to get one liter of perfume 1. What are the quantities (liters) of perfume we should make to maximize the profit?\n",
    "\n",
    "Question: model this problem as a linear program.\n",
    "\n",
    "\n",
    "### Solution\n",
    "Let x and y be liters of perfumes of the first and the second types correspondingly. Then this issue can be formulated as a linear programming problem as follows:\n",
    "\\begin{align*}\n",
    "300x + 500y &\\to max \\\\\n",
    "x &\\le 4 \\\\\n",
    "2y &\\le 12 \\\\\n",
    "3x + 2y &\\le 18 \\\\\n",
    "x &\\ge 0 \\\\\n",
    "y &\\ge 0\n",
    "\\end{align*}"
   ]
  },
  {
   "cell_type": "code",
   "execution_count": 43,
   "metadata": {},
   "outputs": [
    {
     "name": "stdout",
     "output_type": "stream",
     "text": [
      "     pcost       dcost       gap    pres   dres   k/t\n",
      " 0: -3.2476e+03 -5.2784e+03  7e+02  0e+00  4e-01  1e+00\n",
      " 1: -3.5884e+03 -3.8092e+03  6e+01  2e-16  5e-02  4e+00\n",
      " 2: -3.5999e+03 -3.6022e+03  6e-01  3e-16  5e-04  4e-02\n",
      " 3: -3.6000e+03 -3.6000e+03  6e-03  2e-16  5e-06  4e-04\n",
      " 4: -3.6000e+03 -3.6000e+03  6e-05  2e-16  5e-08  4e-06\n",
      "Optimal solution found.\n",
      "{\n",
      "    \"Perfume 1:\": \"1.99999997\",\n",
      "    \"Perfume 2:\": \"5.99999999\"\n",
      "}\n"
     ]
    }
   ],
   "source": [
    "c = matrix([-300., -500.])\n",
    "A = matrix([[1., 0., 3., -1., 0.], [0., 2., 2., 0., -1.]])\n",
    "b = matrix([4., 12., 18., 0., 0.])\n",
    "\n",
    "print(json.dumps(dict(zip(['Perfume 1:', \n",
    "                           'Perfume 2:'], map(lambda f: format(f, \".8f\"), solvers.lp(c, A, b)['x']))), indent=4))"
   ]
  },
  {
   "cell_type": "markdown",
   "metadata": {},
   "source": [
    "# Dairy products\n",
    "\n",
    " A dairy cooperative is producing 3 types of cheese: Beaufort, Abondance and Reblochon. The milk needed for each cheese differs depending on the species of the cow (abondances (a), monbéliardes (m) and tarines (t)). The following table gives the quantity of each milk needed to produce one kilogram of a given cheese as well as the labor time needed.\n",
    "\n",
    "|          |milk Abondance |milk Monbéliard |milk Tarine |labor time |selling price |\n",
    "|----------|:-------------:|:--------------:|:----------:|:---------:|:------------:|\n",
    "|          |(liters)       |(liters)        |(liters)    |(minutes)  |(€ / kg)      |\n",
    "|Abondance |5              |3               |2           |15         |20            |\n",
    "|Beaufort  |5              |                |5           |30         |25            |\n",
    "|Reblochon |2              |                |4           |10         |15            |\n",
    "\n",
    "3000 liters of milk a, 1000 liters of milk m and 4000 liters of milk t are usually collected during a week. The available labor time in a week is 250 hours. The cooperative is wondering what kind of cheese should be made to maximize its profit. The unused milk is sold for 0.25 € per liter.\n",
    "\n",
    "Question: Formulate the problem as a linear program and compute the optimal profit.\n",
    "\n",
    "\n",
    "### Solution\n",
    "Let x, y and z be masses of produced cheese of types Beaufort, Abondance and Reblochon correspondingly. Then this issue can be formulated as a linear programming problem as follows:\n",
    "\\begin{align*}\n",
    "20x + 25y + 15z + (8000 - 10x - 10y - 6z) \\cdot 0.25 = 17.5x + 22.5y + 13.5z + 2000 &\\to max \\\\\n",
    "5x + 5y + 2z &\\le 3000 \\\\\n",
    "3x &\\le 1000 \\\\\n",
    "2x + 5y  + 4z &\\le 4000 \\\\\n",
    "15x + 30y + 10z &\\le 250 \\cdot 60 \\\\\n",
    "x &\\ge 0 \\\\\n",
    "y &\\ge 0 \\\\\n",
    "z &\\ge 0\n",
    "\\end{align*}"
   ]
  },
  {
   "cell_type": "code",
   "execution_count": 44,
   "metadata": {},
   "outputs": [
    {
     "name": "stdout",
     "output_type": "stream",
     "text": [
      "     pcost       dcost       gap    pres   dres   k/t\n",
      " 0: -1.6168e+04 -5.9742e+04  7e+03  4e-02  3e+00  1e+00\n",
      " 1: -1.5963e+04 -2.0647e+04  5e+02  5e-03  3e-01  4e+01\n",
      " 2: -1.5992e+04 -1.7800e+04  2e+02  2e-03  1e-01  2e+01\n",
      " 3: -1.6170e+04 -1.7384e+04  2e+02  1e-03  8e-02  2e+01\n",
      " 4: -1.6182e+04 -1.6286e+04  2e+01  1e-04  7e-03  2e+00\n",
      " 5: -1.6187e+04 -1.6189e+04  2e-01  1e-06  7e-05  2e-02\n",
      " 6: -1.6187e+04 -1.6188e+04  2e-03  1e-08  7e-07  2e-04\n",
      " 7: -1.6187e+04 -1.6188e+04  2e-05  1e-10  7e-09  2e-06\n",
      "Optimal solution found.\n",
      "{\n",
      "    \"Abondance:\": \"249.99999761\",\n",
      "    \"Beafort:\": \"0.00000386\",\n",
      "    \"Reblochon:\": \"874.99999624\"\n",
      "}\n"
     ]
    }
   ],
   "source": [
    "c = matrix([-17.5, -22.5,  -13.5])\n",
    "A = matrix([[5., 3., 2., 15., -1., 0., 0.], \n",
    "            [5., 0., 5., 30., 0., -1., 0.],\n",
    "            [2., 0., 4., 10., 0., 0., -1.]])\n",
    "b = matrix([3000., 1000., 4000., 250. * 60., 0., 0., 0.])\n",
    "\n",
    "print(json.dumps(dict(zip(['Abondance:', \n",
    "                           'Beafort:',\n",
    "                           'Reblochon:'], map(lambda f: format(f, \".8f\"), solvers.lp(c, A, b)['x']))), indent=4))"
   ]
  },
  {
   "cell_type": "markdown",
   "metadata": {},
   "source": [
    "# Apples\n",
    "\n",
    "A factory produces juice or cider from apples. The price of a ton of apples is 1500€. Each ton of apples can yield 500 liters of juice or 250 liters of cider. The maximum possible sales (in liters) and selling prices are given in the following table: \n",
    "\n",
    "|            |Maximum sales (liters) |Selling prices(€/liter) |\n",
    "|------------|:---------------------:|:----------------------:|\n",
    "|Juice       |5000                   |4                       |\n",
    "|Cider       |2000                   |8                       |\n",
    " \n",
    " By fermentation and distillation, the factory can also produce cider from apple juice and Calvados from cider. Fermenting a liter of apple juice produces 0.6 liters of cider, and distilling a liter of cider gives 0.4 liters of Calvados. The factory can sell a maximum of 500 liters of Calvados, at a selling price of 10€/liter.\n",
    "\n",
    " The problem is to maximize the profit of the factory.\n",
    "\n",
    "Question: model this problem as a linear program.\n",
    "\n",
    "\n",
    "### Solution\n",
    "Notice that yielding cider directly from apples is unprofitable. Indeed, yielding juice and then fermenting it will bring up 6/5 times more cider. Let x, y, z be liters of apple juice, cider and Calvados that are going to be selled correspondingly. Thus this issue could be formulated as a linear programming problem the following way.\n",
    "\n",
    "\\begin{align*}\n",
    "-(x + \\frac{y}{0.6} + \\frac{z}{0.24}) \\cdot \\frac{1500}{500} + 4x + 8y + 10z &\\to max \\\\\n",
    "x &\\le 5000 \\\\\n",
    "y &\\le 2000 \\\\\n",
    "z &\\le 500 \\\\\n",
    "x &\\ge 0 \\\\\n",
    "y &\\ge 0 \\\\\n",
    "z &\\ge 0\n",
    "\\end{align*}\n",
    "\n",
    "Or, reducing the first function,\n",
    "\n",
    "\\begin{align*}\n",
    "2x + 6y - 5z &\\to max \\\\\n",
    "x &\\le 5000 \\\\\n",
    "y &\\le 2000 \\\\\n",
    "z &\\le 500 \\\\\n",
    "x &\\ge 0 \\\\\n",
    "y &\\ge 0 \\\\\n",
    "z &\\ge 0\n",
    "\\end{align*}"
   ]
  },
  {
   "cell_type": "code",
   "execution_count": 53,
   "metadata": {},
   "outputs": [
    {
     "name": "stdout",
     "output_type": "stream",
     "text": [
      "     pcost       dcost       gap    pres   dres   k/t\n",
      " 0: -9.7500e+03 -3.9750e+04  3e+04  0e+00  2e-16  1e+00\n",
      " 1: -1.8665e+04 -2.4088e+04  5e+03  2e-16  3e-16  3e+02\n",
      " 2: -2.1927e+04 -2.2111e+04  2e+02  4e-16  4e-16  2e+01\n",
      " 3: -2.1999e+04 -2.2001e+04  2e+00  3e-16  1e-16  2e-01\n",
      " 4: -2.2000e+04 -2.2000e+04  2e-02  6e-17  3e-16  2e-03\n",
      "Optimal solution found.\n",
      "{\n",
      "    \"Apple juice:\": \"4999.99855979\",\n",
      "    \"Cider:\": \"1999.99962178\",\n",
      "    \"Calvados:\": \"0.00043006\"\n",
      "}\n",
      "technology:\n",
      "Buy 4166666.5273325234 tons of apples,\n",
      "recycle them into 8333.333054665047 liters of apple juice,\n",
      "ferment 3333.332702965376 liters of apple juice into cider and\n",
      "distilate 0.001075146932640985 liters of cider to get Calvados\n"
     ]
    }
   ],
   "source": [
    "c = matrix([-2., -6., 5.])\n",
    "A = matrix([[1., 0., 0., -1., 0., 0.], \n",
    "            [0., 1., 0., 0., -1., 0.], \n",
    "            [0., 0., 1., 0., 0., -1.]])\n",
    "b = matrix([5000., 2000., 500., 0., 0., 0.])\n",
    "\n",
    "ans = solvers.lp(c, A, b)['x']\n",
    "print(json.dumps(dict(zip(['Apple juice:', \n",
    "                           'Cider:',\n",
    "                           'Calvados:'], map(lambda f: format(f, \".8f\"), ans))), indent=4))\n",
    "print('''technology:\\nBuy {} tons of apples,\n",
    "recycle them into {} liters of apple juice,\n",
    "ferment {} liters of apple juice into cider and\n",
    "distilate {} liters of cider to get Calvados'''.format((ans[0] + ans[1] / 0.6 + ans[2] / 0.24) * 500,\n",
    "                                                        ans[0] + ans[1] / 0.6 + ans[2] / 0.24,\n",
    "                                                        ans[1] / 0.6,\n",
    "                                                        ans[2] / 0.4))"
   ]
  },
  {
   "cell_type": "code",
   "execution_count": null,
   "metadata": {},
   "outputs": [],
   "source": []
  }
 ],
 "metadata": {
  "kernelspec": {
   "display_name": "Python 3",
   "language": "python",
   "name": "python3"
  },
  "language_info": {
   "codemirror_mode": {
    "name": "ipython",
    "version": 3
   },
   "file_extension": ".py",
   "mimetype": "text/x-python",
   "name": "python",
   "nbconvert_exporter": "python",
   "pygments_lexer": "ipython3",
   "version": "3.6.4"
  }
 },
 "nbformat": 4,
 "nbformat_minor": 2
}
